{
 "cells": [
  {
   "cell_type": "code",
   "execution_count": 1,
   "id": "19867b96",
   "metadata": {},
   "outputs": [
    {
     "name": "stdout",
     "output_type": "stream",
     "text": [
      "Welcome to use Wind Quant API for Python (WindPy)!\n",
      "\n",
      "COPYRIGHT (C) 2020 WIND INFORMATION CO., LTD. ALL RIGHTS RESERVED.\n",
      "IN NO CIRCUMSTANCE SHALL WIND BE RESPONSIBLE FOR ANY DAMAGES OR LOSSES CAUSED BY USING WIND QUANT API FOR Python.\n"
     ]
    }
   ],
   "source": [
    "from backtestv1 import *\n",
    "t=fund_backTest(\"2021-01-01\", \"2021-04-30\",100000)"
   ]
  },
  {
   "cell_type": "code",
   "execution_count": 2,
   "id": "c09c88ce",
   "metadata": {},
   "outputs": [],
   "source": [
    "t.buy_list(['000051.OF', '020011.OF', '040180.OF'],'2021-01-04')\n"
   ]
  },
  {
   "cell_type": "code",
   "execution_count": 3,
   "id": "c842e2ce",
   "metadata": {},
   "outputs": [],
   "source": [
    "t.sell('000051.OF',200,'2021-01-06')"
   ]
  },
  {
   "cell_type": "code",
   "execution_count": 5,
   "id": "a83a5c18",
   "metadata": {},
   "outputs": [
    {
     "ename": "AttributeError",
     "evalue": "'fund_backTest' object has no attribute 'plot_returns'",
     "output_type": "error",
     "traceback": [
      "\u001b[1;31m---------------------------------------------------------------------------\u001b[0m",
      "\u001b[1;31mAttributeError\u001b[0m                            Traceback (most recent call last)",
      "\u001b[1;32m<ipython-input-5-709909aaa453>\u001b[0m in \u001b[0;36m<module>\u001b[1;34m\u001b[0m\n\u001b[1;32m----> 1\u001b[1;33m \u001b[0mt\u001b[0m\u001b[1;33m.\u001b[0m\u001b[0mhandle_data\u001b[0m\u001b[1;33m(\u001b[0m\u001b[1;33m)\u001b[0m\u001b[1;33m\u001b[0m\u001b[1;33m\u001b[0m\u001b[0m\n\u001b[0m",
      "\u001b[1;32m~\\基金回测\\基金回测\\openFund-backtest\\backtestv1.py\u001b[0m in \u001b[0;36mhandle_data\u001b[1;34m(self, log)\u001b[0m\n\u001b[0;32m    228\u001b[0m         \u001b[0malpha\u001b[0m\u001b[1;33m,\u001b[0m\u001b[0mbeta\u001b[0m\u001b[1;33m=\u001b[0m\u001b[0mem\u001b[0m\u001b[1;33m.\u001b[0m\u001b[0malpha_beta\u001b[0m\u001b[1;33m(\u001b[0m\u001b[0mdf_returns\u001b[0m\u001b[1;33m[\u001b[0m\u001b[1;34m'returns'\u001b[0m\u001b[1;33m]\u001b[0m\u001b[1;33m,\u001b[0m \u001b[0mem\u001b[0m\u001b[1;33m.\u001b[0m\u001b[0msimple_returns\u001b[0m\u001b[1;33m(\u001b[0m\u001b[0mdf_returns\u001b[0m\u001b[1;33m[\u001b[0m\u001b[1;34m'bench_mark'\u001b[0m\u001b[1;33m]\u001b[0m\u001b[1;33m)\u001b[0m\u001b[1;33m)\u001b[0m\u001b[1;33m\u001b[0m\u001b[1;33m\u001b[0m\u001b[0m\n\u001b[0;32m    229\u001b[0m \u001b[1;33m\u001b[0m\u001b[0m\n\u001b[1;32m--> 230\u001b[1;33m         \u001b[1;32mreturn\u001b[0m \u001b[0mdf_returns\u001b[0m\u001b[1;33m,\u001b[0m\u001b[0mmax_drawdown\u001b[0m\u001b[1;33m,\u001b[0m\u001b[0msharp_ratio\u001b[0m\u001b[1;33m,\u001b[0m\u001b[0malpha\u001b[0m\u001b[1;33m,\u001b[0m\u001b[0mbeta\u001b[0m\u001b[1;33m\u001b[0m\u001b[1;33m\u001b[0m\u001b[0m\n\u001b[0m\u001b[0;32m    231\u001b[0m \u001b[1;33m\u001b[0m\u001b[0m\n\u001b[0;32m    232\u001b[0m \u001b[1;33m\u001b[0m\u001b[0m\n",
      "\u001b[1;31mAttributeError\u001b[0m: 'fund_backTest' object has no attribute 'plot_returns'"
     ]
    }
   ],
   "source": [
    "t.handle_data()"
   ]
  },
  {
   "cell_type": "code",
   "execution_count": null,
   "id": "59b38685",
   "metadata": {},
   "outputs": [],
   "source": []
  }
 ],
 "metadata": {
  "kernelspec": {
   "display_name": "Python 3",
   "language": "python",
   "name": "python3"
  },
  "language_info": {
   "codemirror_mode": {
    "name": "ipython",
    "version": 3
   },
   "file_extension": ".py",
   "mimetype": "text/x-python",
   "name": "python",
   "nbconvert_exporter": "python",
   "pygments_lexer": "ipython3",
   "version": "3.8.8"
  }
 },
 "nbformat": 4,
 "nbformat_minor": 5
}
